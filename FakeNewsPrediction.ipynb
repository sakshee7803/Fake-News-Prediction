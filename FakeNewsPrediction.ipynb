{
 "cells": [
  {
   "cell_type": "code",
   "execution_count": 1,
   "id": "fb881f59-c802-45be-8452-51fc22081ffc",
   "metadata": {
    "tags": []
   },
   "outputs": [],
   "source": [
    "import numpy as np\n",
    "import pandas as pd\n",
    "import re\n",
    "from nltk.corpus import stopwords\n",
    "from nltk.stem.porter import PorterStemmer\n",
    "from sklearn.feature_extraction.text import TfidfVectorizer\n",
    "from sklearn.model_selection import train_test_split\n",
    "import nltk"
   ]
  },
  {
   "cell_type": "code",
   "execution_count": 2,
   "id": "a8d94439-56bc-4667-a871-9fa37ed64bf0",
   "metadata": {
    "tags": []
   },
   "outputs": [
    {
     "name": "stderr",
     "output_type": "stream",
     "text": [
      "[nltk_data] Error loading stopwords: <urlopen error [Errno 11001]\n",
      "[nltk_data]     getaddrinfo failed>\n"
     ]
    },
    {
     "data": {
      "text/plain": [
       "0       House Dem Aide: We Didn’t Even See Comey’s Let...\n",
       "1       FLYNN: Hillary Clinton, Big Woman on Campus - ...\n",
       "2       Why the Truth Might Get You Fired Why the Trut...\n",
       "3       15 Civilians Killed In Single US Airstrike Hav...\n",
       "4       Iranian woman jailed for fictional unpublished...\n",
       "                              ...                        \n",
       "4995    Hillary Clinton and Bernie Sanders Meet as The...\n",
       "4996    Dr. Duke & Andrew Anglin the True Voice of the...\n",
       "4997    What It Was Like Onstage During the Oscars 201...\n",
       "4998    For Whites Sensing Decline, Donald Trump Unlea...\n",
       "4999    Tumult in Turkey: What We Know and Don’t Know ...\n",
       "Name: content, Length: 4380, dtype: object"
      ]
     },
     "execution_count": 2,
     "metadata": {},
     "output_type": "execute_result"
    }
   ],
   "source": [
    "nltk.download('stopwords')\n",
    "num_rows_to_read = 5000\n",
    "news_dataset = pd.read_csv('C:/Users/manja/Project/fake-news/train.csv', nrows=num_rows_to_read)\n",
    "news_dataset.dropna(inplace=True)\n",
    "\n",
    "# Combine features\n",
    "news_dataset['content'] = news_dataset['title'] + ' ' + news_dataset['text']\n",
    "news_dataset['content']"
   ]
  },
  {
   "cell_type": "code",
   "execution_count": 3,
   "id": "e1e9dbfe-11eb-4a40-b4ce-c820c9a7ccc0",
   "metadata": {
    "tags": []
   },
   "outputs": [],
   "source": [
    "# Define English stopwords\n",
    "english_stopwords = set(stopwords.words('english'))\n",
    "\n",
    "def stemming(content, stopwords_set):\n",
    "    port_stem = PorterStemmer()\n",
    "    stemmed_content = re.sub('[^a-zA-Z]', ' ', content)\n",
    "    stemmed_content = stemmed_content.lower()\n",
    "    stemmed_content = stemmed_content.split()\n",
    "    stemmed_content = [port_stem.stem(word) for word in stemmed_content if word not in stopwords_set]\n",
    "    stemmed_content = ' '.join(stemmed_content)\n",
    "    return stemmed_content"
   ]
  },
  {
   "cell_type": "code",
   "execution_count": 4,
   "id": "a4365bff-1ab5-4b96-86b2-7024957e0e36",
   "metadata": {
    "tags": []
   },
   "outputs": [],
   "source": [
    "# Apply stemming function to 'content' column in batches\n",
    "batch_size = 1000  # Adjust batch size as needed\n",
    "num_batches = (len(news_dataset) + batch_size - 1) // batch_size\n",
    "\n",
    "for batch_idx in range(num_batches):\n",
    "    start_idx = batch_idx * batch_size\n",
    "    end_idx = min((batch_idx + 1) * batch_size, len(news_dataset))\n",
    "    news_dataset.loc[start_idx:end_idx, 'content'] = news_dataset.loc[start_idx:end_idx, 'content'].apply(stemming, stopwords_set=english_stopwords)"
   ]
  },
  {
   "cell_type": "code",
   "execution_count": 5,
   "id": "3700d0c7-ba50-4e03-8b87-dcae3019a7f2",
   "metadata": {
    "tags": []
   },
   "outputs": [],
   "source": [
    "# Vectorization\n",
    "tfidf_vectorizer = TfidfVectorizer(max_features=1000)\n",
    "X = tfidf_vectorizer.fit_transform(news_dataset['content']).toarray()\n",
    "Y = news_dataset['label'].values"
   ]
  },
  {
   "cell_type": "code",
   "execution_count": 6,
   "id": "69526299-1f9e-4d2a-a9ad-5c6936b32045",
   "metadata": {
    "tags": []
   },
   "outputs": [],
   "source": [
    "# Split data\n",
    "X_train, X_test, Y_train, Y_test = train_test_split(X, Y, test_size=0.2, random_state=42)"
   ]
  },
  {
   "cell_type": "code",
   "execution_count": 7,
   "id": "381f6e48-8940-4740-aca3-2b3a2640f8bf",
   "metadata": {
    "tags": []
   },
   "outputs": [],
   "source": [
    "# Logistic Regression Implementation\n",
    "class LogisticRegression:\n",
    "    def __init__(self, learning_rate=0.01, n_iterations=1000, regularization='l2', lambda_param=0.01):\n",
    "        self.learning_rate = learning_rate\n",
    "        self.n_iterations = n_iterations\n",
    "        self.regularization = regularization\n",
    "        self.lambda_param = lambda_param\n",
    "        \n",
    "    def sigmoid(self, z):\n",
    "        return 1 / (1 + np.exp(-z))\n",
    "\n",
    "    def fit(self, X, Y):\n",
    "        m, n = X.shape\n",
    "        self.weights = np.zeros(n)\n",
    "        self.bias = 0\n",
    "\n",
    "        for _ in range(self.n_iterations):\n",
    "            # Calculate predictions\n",
    "            z = np.dot(X, self.weights) + self.bias\n",
    "            predictions = self.sigmoid(z)\n",
    "\n",
    "            # Calculate gradients\n",
    "            dw = (1 / m) * np.dot(X.T, (predictions - Y))\n",
    "            db = (1 / m) * np.sum(predictions - Y)\n",
    "\n",
    "            # Regularization\n",
    "            if self.regularization == 'l1':\n",
    "                dw += (self.lambda_param / m) * np.sign(self.weights)\n",
    "            elif self.regularization == 'l2':\n",
    "                dw += (self.lambda_param / m) * self.weights\n",
    "\n",
    "            # Update weights and bias\n",
    "            self.weights -= self.learning_rate * dw\n",
    "            self.bias -= self.learning_rate * db\n",
    "\n",
    "    def predict(self, X):\n",
    "        z = np.dot(X, self.weights) + self.bias\n",
    "        predictions = self.sigmoid(z)\n",
    "        return (predictions > 0.5).astype(int)"
   ]
  },
  {
   "cell_type": "code",
   "execution_count": 8,
   "id": "ff4f43ca-c548-461f-96eb-2b3062ae4ac5",
   "metadata": {
    "tags": []
   },
   "outputs": [],
   "source": [
    "# Train the model with regularization\n",
    "model = LogisticRegression(learning_rate=0.1, n_iterations=10000, regularization='l2', lambda_param=0.1)\n",
    "model.fit(X_train, Y_train)"
   ]
  },
  {
   "cell_type": "code",
   "execution_count": 9,
   "id": "1f0010d8-1305-4b59-b3fa-d4d84bf3363d",
   "metadata": {
    "tags": []
   },
   "outputs": [],
   "source": [
    "# Make predictions\n",
    "Y_pred = model.predict(X_test)"
   ]
  },
  {
   "cell_type": "code",
   "execution_count": 10,
   "id": "97a42a3a-ddd9-42fa-9584-8b768e75e7a9",
   "metadata": {
    "tags": []
   },
   "outputs": [
    {
     "name": "stdout",
     "output_type": "stream",
     "text": [
      "Accuracy: 0.9189497716894978\n"
     ]
    }
   ],
   "source": [
    "# Evaluate the model\n",
    "accuracy = np.mean(Y_pred == Y_test)\n",
    "print(f'Accuracy: {accuracy}')"
   ]
  },
  {
   "cell_type": "code",
   "execution_count": 28,
   "id": "6cb7aeef-98b8-4107-8004-b528514acd52",
   "metadata": {
    "tags": []
   },
   "outputs": [
    {
     "name": "stdin",
     "output_type": "stream",
     "text": [
      "Enter the news text:  The king was killed by them\n"
     ]
    },
    {
     "name": "stdout",
     "output_type": "stream",
     "text": [
      "The news is fake\n"
     ]
    }
   ],
   "source": [
    "# Input text from the user\n",
    "input_text = input(\"Enter the news text: \")\n",
    "\n",
    "# Preprocess the input text (stemming and vectorization)\n",
    "input_text_stemmed = stemming(input_text, english_stopwords)  # Assuming 'stemming' function is defined as in your code\n",
    "input_text_vectorized = tfidf_vectorizer.transform([input_text_stemmed]).toarray()\n",
    "\n",
    "# Make prediction\n",
    "prediction = model.predict(input_text_vectorized)\n",
    "\n",
    "# Display the prediction\n",
    "if(prediction[0]==1):\n",
    "    print('The news is fake')\n",
    "else:\n",
    "    print('The news is real')"
   ]
  },
  {
   "cell_type": "code",
   "execution_count": 12,
   "id": "993190f2-510b-4051-8e03-f917c23237f2",
   "metadata": {
    "tags": []
   },
   "outputs": [
    {
     "name": "stdout",
     "output_type": "stream",
     "text": [
      "Precision: 0.8983957219251337\n",
      "Recall: 0.9105691056910569\n"
     ]
    },
    {
     "data": {
      "image/png": "[encoded data removed]",
      "text/plain": [
       "<Figure size 800x600 with 2 Axes>"
      ]
     },
     "metadata": {},
     "output_type": "display_data"
    }
   ],
   "source": [
    "from sklearn.metrics import precision_score, recall_score\n",
    "import matplotlib.pyplot as plt\n",
    "from sklearn.metrics import confusion_matrix\n",
    "\n",
    "# Calculate precision and recall\n",
    "precision = precision_score(Y_test, Y_pred)\n",
    "\n",
    "recall = recall_score(Y_test, Y_pred)\n",
    "\n",
    "print(f'Precision: {precision}')\n",
    "print(f'Recall: {recall}')\n",
    "\n",
    "# Calculate confusion matrix\n",
    "cm = confusion_matrix(Y_test, Y_pred)\n",
    "\n",
    "# Plot confusion matrix\n",
    "plt.figure(figsize=(8, 6))\n",
    "plt.imshow(cm, interpolation='nearest', cmap=plt.cm.Blues)\n",
    "plt.title('Confusion Matrix')\n",
    "plt.colorbar()\n",
    "\n",
    "classes = ['Fake', 'Real']\n",
    "tick_marks = np.arange(len(classes))\n",
    "plt.xticks(tick_marks, classes)\n",
    "plt.yticks(tick_marks, classes)\n",
    "\n",
    "plt.xlabel('Predicted Label\n",
    "plt.ylabel('True Label')\n",
    "\n",
    "thresh = cm.max() / 2.\n",
    "for i in range(cm.shape[0]):\n",
    "    for j in range(cm.shape[1]):\n",
    "        plt.text(j, i, format(cm[i, j], 'd'),\n",
    "                 ha=\"center\", va=\"center\",\n",
    "                 color=\"white\" if cm[i, j] > thresh else \"black\")\n",
    "\n",
    "plt.tight_layout()\n",
    "plt.show()"
   ]
  },
  {
   "cell_type": "code",
   "execution_count": 13,
   "id": "6167f6b7-42f7-4b8c-8f84-70b329dd4450",
   "metadata": {
    "tags": []
   },
   "outputs": [],
   "source": [
    "### Naive Bayes Classifier\n",
    "\n",
    "import pandas as pd\n",
    "import re\n",
    "from nltk.tokenize import word_tokenize\n",
    "from nltk.corpus import stopwords\n",
    "from sklearn.model_selection import train_test_split"
   ]
  },
  {
   "cell_type": "code",
   "execution_count": 14,
   "id": "dea702ca-46d8-4fc5-b5aa-c501c9da0fc8",
   "metadata": {
    "tags": []
   },
   "outputs": [],
   "source": [
    "# Read the CSV file\n",
    "nr=5000\n",
    "df = pd.read_csv('train.csv',nrows=nr)"
   ]
  },
  {
   "cell_type": "code",
   "execution_count": 15,
   "id": "4bd64b23-cd01-4f3e-a589-b8e323aeb185",
   "metadata": {
    "tags": []
   },
   "outputs": [
    {
     "name": "stdout",
     "output_type": "stream",
     "text": [
      "Missing Values:\n",
      " id          0\n",
      "title     142\n",
      "author    478\n",
      "text       11\n",
      "label       0\n",
      "dtype: int64\n",
      "Duplicate Rows:\n",
      " Empty DataFrame\n",
      "Columns: [id, title, author, text, label]\n",
      "Index: []\n"
     ]
    }
   ],
   "source": [
    "# Check for missing values\n",
    "missing_values = df.isnull().sum()\n",
    "print(\"Missing Values:\\n\", missing_values)\n",
    "# Drop rows with missing values\n",
    "df.dropna(inplace=True)\n",
    "\n",
    "# Check for duplicate rows\n",
    "duplicate_rows = df[df.duplicated()]\n",
    "print(\"Duplicate Rows:\\n\", duplicate_rows)\n",
    "# Drop duplicate rows\n",
    "df.drop_duplicates(inplace=True)"
   ]
  },
  {
   "cell_type": "code",
   "execution_count": 16,
   "id": "e67d7df0-f929-4b89-b8c0-70f0754a0d13",
   "metadata": {
    "tags": []
   },
   "outputs": [],
   "source": [
    "# Define a function to clean and preprocess text\n",
    "def clean_text(text):\n",
    "    # Convert text to lowercase\n",
    "    text = text.lower()\n",
    "    \n",
    "    # Remove non-alphanumeric characters and URLs\n",
    "    text = re.sub(r'\\W', ' ', text)\n",
    "    text = re.sub(r'http\\S+', '', text)\n",
    "    \n",
    "    # Tokenize the text\n",
    "    tokens = word_tokenize(text)\n",
    "    \n",
    "    # Remove stopwords\n",
    "    stop_words = set(stopwords.words('english'))\n",
    "    tokens = [word for word in tokens if word not in stop_words]\n",
    "    \n",
    "    return tokens\n",
    "\n",
    "# Apply cleaning and preprocessing to the 'text' column\n",
    "df['cleaned_text'] = df['text'].apply(clean_text)"
   ]
  },
  {
   "cell_type": "code",
   "execution_count": 17,
   "id": "69a120c3-a398-4c71-9fd0-429340d500df",
   "metadata": {
    "tags": []
   },
   "outputs": [],
   "source": [
    "# Split the data into training and testing sets\n",
    "X_train, X_test, y_train, y_test = train_test_split(df['cleaned_text'], df['label'], test_size=0.2, random_state=42)"
   ]
  },
  {
   "cell_type": "code",
   "execution_count": 30,
   "id": "f917d338-3e31-4733-8040-57e9ab04df61",
   "metadata": {
    "tags": []
   },
   "outputs": [
    {
     "name": "stderr",
     "output_type": "stream",
     "text": [
      "[nltk_data] Downloading package punkt to\n",
      "[nltk_data]     C:\\Users\\manja\\AppData\\Roaming\\nltk_data...\n",
      "[nltk_data]   Package punkt is already up-to-date!\n"
     ]
    }
   ],
   "source": [
    "import nltk\n",
    "nltk.download('punkt')\n",
    "import math\n",
    "from collections import defaultdict\n",
    "\n",
    "class NaiveBayesClassifier:\n",
    "    def __init__(self):\n",
    "        self.class_probs = defaultdict(float)\n",
    "        self.word_probs = defaultdict(lambda: defaultdict(float))\n",
    "\n",
    "    def train(self, X_train, y_train):\n",
    "        total_docs = len(y_train)\n",
    "        class_counts = defaultdict(int)\n",
    "        word_counts = defaultdict(lambda: defaultdict(int))\n",
    "\n",
    "        # Calculate class probabilities and word frequencies\n",
    "        for i in range(total_docs):\n",
    "            class_label = y_train.iloc[i]\n",
    "            class_counts[class_label] += 1\n",
    "\n",
    "            for word in X_train.iloc[i]:\n",
    "                word_counts[class_label][word] += 1\n",
    "\n",
    "        # Calculate class probabilities\n",
    "        for class_label, count in class_counts.items():\n",
    "            self.class_probs[class_label] = count / total_docs\n",
    "\n",
    "        # Calculate word probabilities\n",
    "        for class_label, word_freqs in word_counts.items():\n",
    "            total_words = sum(word_freqs.values())\n",
    "            for word, freq in word_freqs.items():\n",
    "                self.word_probs[class_label][word] = freq / total_words\n",
    "\n",
    "    def predict(self, X_test):\n",
    "        y_pred = []\n",
    "        for doc in X_test:\n",
    "            scores = defaultdict(float)\n",
    "\n",
    "            # Calculate log probabilities\n",
    "            for class_label, class_prob in self.class_probs.items():\n",
    "                scores[class_label] += math.log(class_prob)\n",
    "\n",
    "                for word in doc:\n",
    "                    scores[class_label] += math.log(self.word_probs[class_label].get(word, 1e-10))\n",
    "\n",
    "            # Predict the class with the highest score\n",
    "            predicted_class = max(scores, key=scores.get)\n",
    "            y_pred.append(predicted_class)\n",
    "\n",
    "        return y_pred"
   ]
  },
  {
   "cell_type": "code",
   "execution_count": 19,
   "id": "7cf45fdd-0cf6-4633-883c-5a2bd6045381",
   "metadata": {
    "tags": []
   },
   "outputs": [],
   "source": [
    "# Initialize and train the classifier\n",
    "nb_classifier = NaiveBayesClassifier()\n",
    "nb_classifier.train(X_train, y_train)"
   ]
  },
  {
   "cell_type": "code",
   "execution_count": 20,
   "id": "c7a198d1-9967-45a9-8dd1-3b82f8c2fd8e",
   "metadata": {
    "tags": []
   },
   "outputs": [],
   "source": [
    "# Make predictions\n",
    "y_pred = nb_classifier.predict(X_test)"
   ]
  },
  {
   "cell_type": "code",
   "execution_count": 21,
   "id": "4eb306c5-0f8c-48a4-ba3a-fceeac4f8b57",
   "metadata": {
    "tags": []
   },
   "outputs": [
    {
     "name": "stdout",
     "output_type": "stream",
     "text": [
      "Accuracy: 0.8972602739726028\n"
     ]
    }
   ],
   "source": [
    "# Evaluate the classifier\n",
    "accuracy = (y_pred == y_test).mean()\n",
    "print(\"Accuracy:\", accuracy)"
   ]
  },
  {
   "cell_type": "code",
   "execution_count": 32,
   "id": "76dabc05-391c-41e6-8405-481757df5941",
   "metadata": {
    "tags": []
   },
   "outputs": [
    {
     "name": "stdin",
     "output_type": "stream",
     "text": [
      "Enter the news article text:  India won the world cup 2 times\n"
     ]
    },
    {
     "name": "stdout",
     "output_type": "stream",
     "text": [
      "The news is real\n"
     ]
    }
   ],
   "source": [
    "# Take user input for a news article\n",
    "user_input = input(\"Enter the news article text: \")\n",
    "\n",
    "# Clean and preprocess the user input\n",
    "cleaned_input = clean_text(user_input)\n",
    "\n",
    "# Convert the cleaned input into a DataFrame format similar to the training data\n",
    "user_df = pd.DataFrame({'cleaned_text': [cleaned_input]})\n",
    "\n",
    "# Make predictions using the trained Naive Bayes classifier\n",
    "user_predictions = nb_classifier.predict(user_df['cleaned_text'])\n",
    "\n",
    "if(user_predictions[0]==0):\n",
    "    print('The news is fake')\n",
    "else:\n",
    "    print('The news is real')\n",
    "    "
   ]
  },
  {
   "cell_type": "code",
   "execution_count": 23,
   "id": "a2ff989f-8402-4832-aa7b-e9080dfbcc1f",
   "metadata": {
    "tags": []
   },
   "outputs": [
    {
     "name": "stdout",
     "output_type": "stream",
     "text": [
      "Precision: 0.901649277394644\n",
      "Recall: 0.8972602739726028\n"
     ]
    },
    {
     "data": {
      "image/png": "[encoded data removed]",
      "text/plain": [
       "<Figure size 800x600 with 2 Axes>"
      ]
     },
     "metadata": {},
     "output_type": "display_data"
    }
   ],
   "source": [
    "from sklearn.metrics import precision_score, recall_score\n",
    "import matplotlib.pyplot as plt\n",
    "from sklearn.metrics import confusion_matrix\n",
    "\n",
    "# Calculate precision and recall\n",
    "precision = precision_score(y_test, y_pred, average='weighted')\n",
    "recall = recall_score(y_test, y_pred, average='weighted')\n",
    "\n",
    "print(f'Precision: {precision}')\n",
    "print(f'Recall: {recall}')\n",
    "\n",
    "# Calculate confusion matrix\n",
    "cm = confusion_matrix(y_test, y_pred)\n",
    "\n",
    "# Plot confusion matrix\n",
    "plt.figure(figsize=(8, 6))\n",
    "plt.imshow(cm, interpolation='nearest', cmap=plt.cm.Blues)\n",
    "plt.title('Confusion Matrix')\n",
    "plt.colorbar()\n",
    "\n",
    "classes = ['Fake', 'Real']  # Assuming 'Fake' is class 0 and 'Real' is class 1\n",
    "tick_marks = np.arange(len(classes))\n",
    "plt.xticks(tick_marks, classes)\n",
    "plt.yticks(tick_marks, classes)\n",
    "\n",
    "plt.xlabel('Predicted Label')\n",
    "plt.ylabel('True Label')\n",
    "\n",
    "thresh = cm.max() / 2.\n",
    "for i in range(cm.shape[0]):\n",
    "    for j in range(cm.shape[1]):\n",
    "        plt.text(j, i, format(cm[i, j], 'd'),\n",
    "                 ha=\"center\", va=\"center\",\n",
    "                 color=\"white\" if cm[i, j] > thresh else \"black\")\n",
    "\n",
    "plt.tight_layout()\n",
    "plt.show()"
   ]
  },
  {
   "cell_type": "code",
   "execution_count": 24,
   "id": "dd450c64-6d4c-41d6-a625-a97daf7733ea",
   "metadata": {
    "tags": []
   },
   "outputs": [
    {
     "data": {
      "text/plain": [
       "Text(0, 0.5, 'Scores')"
      ]
     },
     "execution_count": 24,
     "metadata": {},
     "output_type": "execute_result"
    },
    {
     "data": {
      "image/png": "[encoded data removed]",
      "text/plain": [
       "<Figure size 640x480 with 1 Axes>"
      ]
     },
     "metadata": {},
     "output_type": "display_data"
    }
   ],
   "source": [
    "import matplotlib.pyplot as plt\n",
    "from sklearn.metrics import accuracy_score, precision_score, recall_score\n",
    "\n",
    "# Calculate metrics for Logistic Regression\n",
    "lr_accuracy = accuracy_score(Y_test, Y_pred)\n",
    "lr_precision = precision_score(Y_test, Y_pred)\n",
    "lr_recall = recall_score(Y_test, Y_pred)\n",
    "\n",
    "# Calculate metrics for Naive Bayes Classifier\n",
    "nb_accuracy = accuracy\n",
    "# Assuming y_pred is the predicted labels from Naive Bayes\n",
    "nb_precision = precision_score(y_test, y_pred, average='weighted')\n",
    "nb_recall = recall_score(y_test, y_pred, average='weighted')\n",
    "\n",
    "# Plotting the comparative graph\n",
    "labels = ['Logistic Regression', 'Naive Bayes Classifier']\n",
    "accuracies = [lr_accuracy, nb_accuracy]\n",
    "precisions = [lr_precision, nb_precision]\n",
    "recalls = [lr_recall, nb_recall]\n",
    "\n",
    "x = range(len(labels))\n",
    "\n",
    "fig, ax = plt.subplots()\n",
    "ax.bar(x, accuracies, width=0.2, label='Accuracy')\n",
    "ax.bar([pos + 0.2 for pos in x], precisions, width=0.2, label='Precision')\n",
    "ax.bar([pos + 0.4 for pos in x], recalls, width=0.2, label='Recall')\n",
    "\n",
    "ax.set_ylabel('Scores')"
   ]
  },
  {
   "cell_type": "code",
   "execution_count": 25,
   "id": "eb31d6dd-e22d-4e72-87c4-92bf0b66f60c",
   "metadata": {
    "tags": []
   },
   "outputs": [
    {
     "data": {
      "text/plain": [
       "<Figure size 640x480 with 0 Axes>"
      ]
     },
     "metadata": {},
     "output_type": "display_data"
    },
    {
     "data": {
      "image/png": "[encoded data removed]",
      "text/plain": [
       "<Figure size 640x480 with 1 Axes>"
      ]
     },
     "metadata": {},
     "output_type": "display_data"
    }
   ],
   "source": [
    "ax.set_title('Comparison of LR vs NB Metrics')\n",
    "ax.set_xticks([pos + 0.2 for pos in x])\n",
    "ax.set_xticklabels(labels)\n",
    "ax.legend()\n",
    "\n",
    "plt.tight_layout()\n",
    "plt.show()\n",
    "\n",
    "\n",
    "import matplotlib.pyplot as plt\n",
    "\n",
    "# Assuming you have calculated accuracy for both models\n",
    "accuracy_lr = 91.89  # Example accuracy for Logistic Regression\n",
    "accuracy_nb = 89.72  # Example accuracy for Naive Bayes Classifier\n",
    "\n",
    "# Plotting the comparative graph\n",
    "labels = ['Logistic Regression', 'Naive Bayes Classifier']\n",
    "accuracies = [accuracy_lr, accuracy_nb]\n",
    "\n",
    "x = range(len(labels))\n",
    "\n",
    "plt.bar(x, accuracies)\n",
    "plt.xlabel('Classifier')\n",
    "plt.ylabel('Accuracy')\n",
    "plt.title('Comparison of Accuracy between LR and NB')\n",
    "plt.xticks(x, labels)\n",
    "plt.ylim(0, 100)  # Set the y-axis limit to 0-100 for percentage accuracy\n",
    "\n",
    "plt.tight_layout()\n",
    "plt.show()"
   ]
  },
  {
   "cell_type": "code",
   "execution_count": null,
   "id": "a04e543c-8a0a-4d97-8f0a-e1d5b0f7fea7",
   "metadata": {},
   "outputs": [],
   "source": []
  }
 ],
 "metadata": {
  "kernelspec": {
   "display_name": "Python 3 (ipykernel)",
   "language": "python",
   "name": "python3"
  },
  "language_info": {
   "codemirror_mode": {
    "name": "ipython",
    "version": 3
   },
   "file_extension": ".py",
   "mimetype": "text/x-python",
   "name": "python",
   "nbconvert_exporter": "python",
   "pygments_lexer": "ipython3",
   "version": "3.11.5"
  }
 },
 "nbformat": 4,
 "nbformat_minor": 5
}
